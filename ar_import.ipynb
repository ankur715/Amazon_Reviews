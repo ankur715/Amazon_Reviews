{
 "cells": [
  {
   "cell_type": "code",
   "execution_count": 1,
   "metadata": {},
   "outputs": [
    {
     "data": {
      "text/html": [
       "<style scoped>\n",
       "  .ansiout {\n",
       "    display: block;\n",
       "    unicode-bidi: embed;\n",
       "    white-space: pre-wrap;\n",
       "    word-wrap: break-word;\n",
       "    word-break: break-all;\n",
       "    font-family: \"Source Code Pro\", \"Menlo\", monospace;;\n",
       "    font-size: 13px;\n",
       "    color: #555;\n",
       "    margin-left: 4px;\n",
       "    line-height: 19px;\n",
       "  }\n",
       "</style>\n",
       "<div class=\"ansiout\">Time elapsed: 0.0694 seconds.\n",
       "</div>"
      ]
     },
     "metadata": {},
     "output_type": "display_data"
    }
   ],
   "source": [
    "import time\n",
    "\n",
    "time_start = time.time()\n",
    "\n",
    "# loading t\n",
    "train = sc.textFile(\"/FileStore/tables/train_ft-bfd00.txt\", 2)\n",
    "test = sc.textFile(\"/FileStore/tables/test_ft-41af5.txt\", 2)\n",
    "df = sc.union([train, test])\n",
    "\n",
    "print('Time elapsed: {:.4f} seconds.'.format(time.time() - time_start))"
   ]
  },
  {
   "cell_type": "code",
   "execution_count": 2,
   "metadata": {},
   "outputs": [
    {
     "data": {
      "text/html": [
       "<style scoped>\n",
       "  .ansiout {\n",
       "    display: block;\n",
       "    unicode-bidi: embed;\n",
       "    white-space: pre-wrap;\n",
       "    word-wrap: break-word;\n",
       "    word-break: break-all;\n",
       "    font-family: \"Source Code Pro\", \"Menlo\", monospace;;\n",
       "    font-size: 13px;\n",
       "    color: #555;\n",
       "    margin-left: 4px;\n",
       "    line-height: 19px;\n",
       "  }\n",
       "</style>\n",
       "<div class=\"ansiout\"><span class=\"ansired\">Out[</span><span class=\"ansired\">2</span><span class=\"ansired\">]: </span>\n",
       "[&apos;__label__2 Stuning even for the non-gamer: This sound track was beautiful! It paints the senery in your mind so well I would recomend it even to people who hate vid. game music! I have played the game Chrono Cross but out of all of the games I have ever played it has the best music! It backs away from crude keyboarding and takes a fresher step with grate guitars and soulful orchestras. It would impress anyone who cares to listen! ^_^&apos;,\n",
       " &quot;__label__2 The best soundtrack ever to anything.: I&apos;m reading a lot of reviews saying that this is the best &apos;game soundtrack&apos; and I figured that I&apos;d write a review to disagree a bit. This in my opinino is Yasunori Mitsuda&apos;s ultimate masterpiece. The music is timeless and I&apos;m been listening to it for years now and its beauty simply refuses to fade.The price tag on this is pretty staggering I must say, but if you are going to buy any cd for this much money, this is the only one that I feel would be worth every penny.&quot;]\n",
       "</div>"
      ]
     },
     "metadata": {},
     "output_type": "display_data"
    }
   ],
   "source": [
    "df.take(2)"
   ]
  },
  {
   "cell_type": "code",
   "execution_count": 3,
   "metadata": {},
   "outputs": [
    {
     "data": {
      "text/html": [
       "<style scoped>\n",
       "  .ansiout {\n",
       "    display: block;\n",
       "    unicode-bidi: embed;\n",
       "    white-space: pre-wrap;\n",
       "    word-wrap: break-word;\n",
       "    word-break: break-all;\n",
       "    font-family: \"Source Code Pro\", \"Menlo\", monospace;;\n",
       "    font-size: 13px;\n",
       "    color: #555;\n",
       "    margin-left: 4px;\n",
       "    line-height: 19px;\n",
       "  }\n",
       "</style>\n",
       "<div class=\"ansiout\">Size of dataset:  4000000\n",
       "<span class=\"ansired\">Out[</span><span class=\"ansired\">3</span><span class=\"ansired\">]: </span>\n",
       "[[&apos;2&apos;,\n",
       "  &apos;Stuning even for the non-gamer: This sound track was beautiful! It paints the senery in your mind so well I would recomend it even to people who hate vid. game music! I have played the game Chrono Cross but out of all of the games I have ever played it has the best music! It backs away from crude keyboarding and takes a fresher step with grate guitars and soulful orchestras. It would impress anyone who cares to listen! ^_^&apos;],\n",
       " [&apos;2&apos;,\n",
       "  &quot;The best soundtrack ever to anything.: I&apos;m reading a lot of reviews saying that this is the best &apos;game soundtrack&apos; and I figured that I&apos;d write a review to disagree a bit. This in my opinino is Yasunori Mitsuda&apos;s ultimate masterpiece. The music is timeless and I&apos;m been listening to it for years now and its beauty simply refuses to fade.The price tag on this is pretty staggering I must say, but if you are going to buy any cd for this much money, this is the only one that I feel would be worth every penny.&quot;]]\n",
       "</div>"
      ]
     },
     "metadata": {},
     "output_type": "display_data"
    }
   ],
   "source": [
    "# cleaning to get label numbers and reviews \n",
    "df = df.map(lambda x: x.split('__label__')[1].split(\" \", 1))\n",
    "print(\"Size of dataset: \", df.count())\n",
    "df.take(2)"
   ]
  },
  {
   "cell_type": "code",
   "execution_count": 4,
   "metadata": {},
   "outputs": [
    {
     "data": {
      "text/html": [
       "<style scoped>\n",
       "  .ansiout {\n",
       "    display: block;\n",
       "    unicode-bidi: embed;\n",
       "    white-space: pre-wrap;\n",
       "    word-wrap: break-word;\n",
       "    word-break: break-all;\n",
       "    font-family: \"Source Code Pro\", \"Menlo\", monospace;;\n",
       "    font-size: 13px;\n",
       "    color: #555;\n",
       "    margin-left: 4px;\n",
       "    line-height: 19px;\n",
       "  }\n",
       "</style>\n",
       "<div class=\"ansiout\"><span class=\"ansired\">Out[</span><span class=\"ansired\">4</span><span class=\"ansired\">]: </span>[&apos;2&apos;, &apos;1&apos;]\n",
       "</div>"
      ]
     },
     "metadata": {},
     "output_type": "display_data"
    }
   ],
   "source": [
    "# label column - distinct values\n",
    "df.map(lambda x: x[0]).distinct().collect()"
   ]
  },
  {
   "cell_type": "code",
   "execution_count": 5,
   "metadata": {},
   "outputs": [
    {
     "data": {
      "text/html": [
       "<style scoped>\n",
       "  .ansiout {\n",
       "    display: block;\n",
       "    unicode-bidi: embed;\n",
       "    white-space: pre-wrap;\n",
       "    word-wrap: break-word;\n",
       "    word-break: break-all;\n",
       "    font-family: \"Source Code Pro\", \"Menlo\", monospace;;\n",
       "    font-size: 13px;\n",
       "    color: #555;\n",
       "    margin-left: 4px;\n",
       "    line-height: 19px;\n",
       "  }\n",
       "</style>\n",
       "<div class=\"ansiout\">+-----+--------------------+\n",
       "Label|              Review|\n",
       "+-----+--------------------+\n",
       "    2|Stuning even for ...|\n",
       "    2|The best soundtra...|\n",
       "    2|Amazing!: This so...|\n",
       "    2|Excellent Soundtr...|\n",
       "    2|Remember, Pull Yo...|\n",
       "+-----+--------------------+\n",
       "only showing top 5 rows\n",
       "\n",
       "</div>"
      ]
     },
     "metadata": {},
     "output_type": "display_data"
    }
   ],
   "source": [
    "# convert PipelineRDD to DataFrame\n",
    "df1 = df.toDF([\"Label\", \"Review\"])\n",
    "df1.show(5)"
   ]
  },
  {
   "cell_type": "code",
   "execution_count": 6,
   "metadata": {},
   "outputs": [
    {
     "data": {
      "text/html": [
       "<style scoped>\n",
       "  .ansiout {\n",
       "    display: block;\n",
       "    unicode-bidi: embed;\n",
       "    white-space: pre-wrap;\n",
       "    word-wrap: break-word;\n",
       "    word-break: break-all;\n",
       "    font-family: \"Source Code Pro\", \"Menlo\", monospace;;\n",
       "    font-size: 13px;\n",
       "    color: #555;\n",
       "    margin-left: 4px;\n",
       "    line-height: 19px;\n",
       "  }\n",
       "</style>\n",
       "<div class=\"ansiout\">+-----+-------+\n",
       "Label|  count|\n",
       "+-----+-------+\n",
       "    1|2000000|\n",
       "    2|2000000|\n",
       "+-----+-------+\n",
       "\n",
       "</div>"
      ]
     },
     "metadata": {},
     "output_type": "display_data"
    }
   ],
   "source": [
    "df1.groupby(\"Label\").count().show()"
   ]
  },
  {
   "cell_type": "code",
   "execution_count": 7,
   "metadata": {},
   "outputs": [
    {
     "data": {
      "text/html": [
       "<style scoped>\n",
       "  .ansiout {\n",
       "    display: block;\n",
       "    unicode-bidi: embed;\n",
       "    white-space: pre-wrap;\n",
       "    word-wrap: break-word;\n",
       "    word-break: break-all;\n",
       "    font-family: \"Source Code Pro\", \"Menlo\", monospace;;\n",
       "    font-size: 13px;\n",
       "    color: #555;\n",
       "    margin-left: 4px;\n",
       "    line-height: 19px;\n",
       "  }\n",
       "</style>\n",
       "<div class=\"ansiout\">+-----+--------------------+\n",
       "Label|              Review|\n",
       "+-----+--------------------+\n",
       "    1|! Star because &quot;0...|\n",
       "    1|! WARNING! Heming...|\n",
       "+-----+--------------------+\n",
       "only showing top 2 rows\n",
       "\n",
       "+-----+-------+\n",
       "Label|  count|\n",
       "+-----+-------+\n",
       "    1|1799766|\n",
       "    2|1800249|\n",
       "+-----+-------+\n",
       "\n",
       "</div>"
      ]
     },
     "metadata": {},
     "output_type": "display_data"
    }
   ],
   "source": [
    "# random split\n",
    "train_set, test_set = df1.randomSplit([0.9, 0.1], seed=5)\n",
    "\n",
    "# debug only\n",
    "size = None\n",
    "if size is not None:\n",
    "  train_set = train_set.limit(size)\n",
    "  test_set = test_set.limit(size)\n",
    "  \n",
    "# first two rows of train data\n",
    "train_set.show(2)\n",
    "\n",
    "# train data: label distribution\n",
    "train_set.groupby(\"Label\").count().show()"
   ]
  },
  {
   "cell_type": "code",
   "execution_count": 8,
   "metadata": {},
   "outputs": [
    {
     "data": {
      "text/html": [
       "<style scoped>\n",
       "  .ansiout {\n",
       "    display: block;\n",
       "    unicode-bidi: embed;\n",
       "    white-space: pre-wrap;\n",
       "    word-wrap: break-word;\n",
       "    word-break: break-all;\n",
       "    font-family: \"Source Code Pro\", \"Menlo\", monospace;;\n",
       "    font-size: 13px;\n",
       "    color: #555;\n",
       "    margin-left: 4px;\n",
       "    line-height: 19px;\n",
       "  }\n",
       "</style>\n",
       "<div class=\"ansiout\">Time elapsed: 113.1938 seconds.\n",
       "+-----+--------------------+--------------------+--------------------+--------------------+--------------------+-------------+\n",
       "Label|              Review|           Tokenizer|    StopWordsRemover|           HashingTF|                 IDF|StringIndexer|\n",
       "+-----+--------------------+--------------------+--------------------+--------------------+--------------------+-------------+\n",
       "    1|! Star because &quot;0...|[!, star, because...|[!, star, &quot;0&quot;, un...|(65536,[1903,2803...|(65536,[1903,2803...|          1.0|\n",
       "    1|! WARNING! Heming...|[!, warning!, hem...|[!, warning!, hem...|(65536,[1103,2613...|(65536,[1103,2613...|          1.0|\n",
       "+-----+--------------------+--------------------+--------------------+--------------------+--------------------+-------------+\n",
       "only showing top 2 rows\n",
       "\n",
       "</div>"
      ]
     },
     "metadata": {},
     "output_type": "display_data"
    }
   ],
   "source": [
    "from pyspark.ml.feature import HashingTF, IDF, Tokenizer\n",
    "from pyspark.ml.feature import StringIndexer, StopWordsRemover, StandardScaler \n",
    "from pyspark.ml import Pipeline\n",
    "\n",
    "# https://spark.apache.org/docs/latest/ml-features.html\n",
    "time_start = time.time()\n",
    "\n",
    "# features\n",
    "tokenizer = Tokenizer(inputCol=\"Review\", outputCol=\"Tokenizer\")\n",
    "remover = StopWordsRemover(inputCol=\"Tokenizer\", outputCol=\"StopWordsRemover\")\n",
    "hashtf = HashingTF(numFeatures=2**16, inputCol=\"StopWordsRemover\", outputCol='HashingTF')\n",
    "idf = IDF(inputCol='HashingTF', outputCol=\"IDF\", minDocFreq=5)\n",
    "\n",
    "# label\n",
    "label_stringIdx = StringIndexer(inputCol = \"Label\", outputCol = \"StringIndexer\")\n",
    "\n",
    "# pipe\n",
    "pipeline = Pipeline(stages=[tokenizer, remover, hashtf, idf, label_stringIdx])\n",
    "pipelineFit = pipeline.fit(train_set)\n",
    "train_df = pipelineFit.transform(train_set)\n",
    "test_df = pipelineFit.transform(test_set)\n",
    "\n",
    "print('Time elapsed: {:.4f} seconds.'.format(time.time() - time_start))\n",
    "\n",
    "train_df.show(2)"
   ]
  },
  {
   "cell_type": "code",
   "execution_count": 9,
   "metadata": {},
   "outputs": [
    {
     "data": {
      "text/html": [
       "<style scoped>\n",
       "  .ansiout {\n",
       "    display: block;\n",
       "    unicode-bidi: embed;\n",
       "    white-space: pre-wrap;\n",
       "    word-wrap: break-word;\n",
       "    word-break: break-all;\n",
       "    font-family: \"Source Code Pro\", \"Menlo\", monospace;;\n",
       "    font-size: 13px;\n",
       "    color: #555;\n",
       "    margin-left: 4px;\n",
       "    line-height: 19px;\n",
       "  }\n",
       "</style>\n",
       "<div class=\"ansiout\">Time elapsed: 155.4108 seconds.\n",
       "Time elapsed: 100.2385 seconds.\n",
       "</div>"
      ]
     },
     "metadata": {},
     "output_type": "display_data"
    }
   ],
   "source": [
    "from pyspark.ml.classification import LogisticRegression\n",
    "from pyspark.ml.classification import NaiveBayes\n",
    "\n",
    "# variables\n",
    "featuresCol = \"IDF\"\n",
    "labelCol = \"StringIndexer\"\n",
    "predictionCol = \"prediction\"\n",
    "\n",
    "lr = LogisticRegression(maxIter=100, regParam=0.01, featuresCol=featuresCol, labelCol=labelCol, predictionCol=predictionCol)\n",
    "nb = NaiveBayes(smoothing=1.0, modelType=\"multinomial\", featuresCol=featuresCol, labelCol=labelCol, predictionCol=predictionCol)\n",
    "\n",
    "models = [lr, nb]\n",
    "\n",
    "model_results = []\n",
    "for model in models:\n",
    "  time_start = time.time()\n",
    "  \n",
    "  _fit = model.fit(train_df)\n",
    "  _predictions_train = _fit.transform(train_df)\n",
    "  _predictions_test = _fit.transform(test_df)\n",
    "  model_results.append((_fit, _predictions_train, _predictions_test))\n",
    "  \n",
    "  print('Time elapsed: {:.4f} seconds.'.format(time.time() - time_start))"
   ]
  },
  {
   "cell_type": "code",
   "execution_count": 10,
   "metadata": {},
   "outputs": [
    {
     "data": {
      "text/html": [
       "<style scoped>\n",
       "  .ansiout {\n",
       "    display: block;\n",
       "    unicode-bidi: embed;\n",
       "    white-space: pre-wrap;\n",
       "    word-wrap: break-word;\n",
       "    word-break: break-all;\n",
       "    font-family: \"Source Code Pro\", \"Menlo\", monospace;;\n",
       "    font-size: 13px;\n",
       "    color: #555;\n",
       "    margin-left: 4px;\n",
       "    line-height: 19px;\n",
       "  }\n",
       "</style>\n",
       "<div class=\"ansiout\">train data : model: Logistic roc: 0.9603 acc: 0.8982\n",
       "Time elapsed: 252.3567 seconds.\n",
       "test data  : model: Logistic roc: 0.9539 acc: 0.8901\n",
       "Time elapsed: 112.7529 seconds.\n",
       "train data : model: NaiveBys roc: 0.4732 acc: 0.8390\n",
       "Time elapsed: 256.0180 seconds.\n",
       "test data  : model: NaiveBys roc: 0.4713 acc: 0.8353\n",
       "Time elapsed: 88.6398 seconds.\n",
       "</div>"
      ]
     },
     "metadata": {},
     "output_type": "display_data"
    }
   ],
   "source": [
    "from pyspark.ml.evaluation import BinaryClassificationEvaluator\n",
    "\n",
    "model_names = [\"Logistic\", \"NaiveBys\"]\n",
    "for i, (model, predictions_train, predictions_test) in enumerate(model_results):\n",
    "  time_start = time.time()\n",
    "  evaluator = BinaryClassificationEvaluator(rawPredictionCol=\"rawPrediction\", labelCol=labelCol)\n",
    "  roc_auc = evaluator.evaluate(predictions_train)\n",
    "  accuracy = predictions_train.filter(predictions_train.StringIndexer == predictions_train.prediction).count() / float(train_df.count())\n",
    "  print(\"train data : model: {} roc: {:.4f} acc: {:.4f}\".format(model_names[i], roc_auc, accuracy))\n",
    "  print('Time elapsed: {:.4f} seconds.'.format(time.time() - time_start))\n",
    "  time_start = time.time()\n",
    "  roc_auc = evaluator.evaluate(predictions_test)\n",
    "  accuracy = predictions_test.filter(predictions_test.StringIndexer == predictions_test.prediction).count() / float(test_df.count())\n",
    "  print(\"test data  : model: {} roc: {:.4f} acc: {:.4f}\".format(model_names[i], roc_auc, accuracy))\n",
    "  print('Time elapsed: {:.4f} seconds.'.format(time.time() - time_start))"
   ]
  },
  {
   "cell_type": "code",
   "execution_count": 11,
   "metadata": {},
   "outputs": [
    {
     "data": {
      "text/html": [
       "<style scoped>\n",
       "  .ansiout {\n",
       "    display: block;\n",
       "    unicode-bidi: embed;\n",
       "    white-space: pre-wrap;\n",
       "    word-wrap: break-word;\n",
       "    word-break: break-all;\n",
       "    font-family: \"Source Code Pro\", \"Menlo\", monospace;;\n",
       "    font-size: 13px;\n",
       "    color: #555;\n",
       "    margin-left: 4px;\n",
       "    line-height: 19px;\n",
       "  }\n",
       "</style>\n",
       "<div class=\"ansiout\">Time elapsed: 211.8254 seconds.\n",
       "+-----+--------------------+--------------------+--------------------+--------------------+--------------------+--------------------+-------------+\n",
       "Label|              Review|           Tokenizer|    StopWordsRemover|           HashingTF|                 IDF|      StandardScaler|StringIndexer|\n",
       "+-----+--------------------+--------------------+--------------------+--------------------+--------------------+--------------------+-------------+\n",
       "    1|! Star because &quot;0...|[!, star, because...|[!, star, &quot;0&quot;, un...|(65536,[1903,2803...|(65536,[1903,2803...|(65536,[1903,2803...|          1.0|\n",
       "    1|! WARNING! Heming...|[!, warning!, hem...|[!, warning!, hem...|(65536,[1103,2613...|(65536,[1103,2613...|(65536,[1103,2613...|          1.0|\n",
       "+-----+--------------------+--------------------+--------------------+--------------------+--------------------+--------------------+-------------+\n",
       "only showing top 2 rows\n",
       "\n",
       "</div>"
      ]
     },
     "metadata": {},
     "output_type": "display_data"
    }
   ],
   "source": [
    "from pyspark.ml.feature import HashingTF, IDF, Tokenizer\n",
    "from pyspark.ml.feature import StringIndexer, StopWordsRemover, StandardScaler \n",
    "from pyspark.ml import Pipeline\n",
    "\n",
    "# https://spark.apache.org/docs/latest/ml-features.html\n",
    "\n",
    "time_start = time.time()\n",
    "\n",
    "# features\n",
    "tokenizer = Tokenizer(inputCol=\"Review\", outputCol=\"Tokenizer\")\n",
    "remover = StopWordsRemover(inputCol=\"Tokenizer\", outputCol=\"StopWordsRemover\")\n",
    "hashtf = HashingTF(numFeatures=2**16, inputCol=\"StopWordsRemover\", outputCol='HashingTF')\n",
    "idf = IDF(inputCol='HashingTF', outputCol=\"IDF\", minDocFreq=5)\n",
    "scaler = StandardScaler(inputCol=\"IDF\", outputCol=\"StandardScaler\", withStd=True, withMean=False)\n",
    "\n",
    "# label\n",
    "label_stringIdx = StringIndexer(inputCol = \"Label\", outputCol = \"StringIndexer\")\n",
    "\n",
    "# pipe\n",
    "pipeline = Pipeline(stages=[tokenizer, remover, hashtf, idf, scaler, label_stringIdx])\n",
    "pipelineFit = pipeline.fit(train_set)\n",
    "train_df = pipelineFit.transform(train_set)\n",
    "test_df = pipelineFit.transform(test_set)\n",
    "\n",
    "print('Time elapsed: {:.4f} seconds.'.format(time.time() - time_start))\n",
    "\n",
    "train_df.show(2)"
   ]
  },
  {
   "cell_type": "code",
   "execution_count": 12,
   "metadata": {},
   "outputs": [
    {
     "data": {
      "text/html": [
       "<style scoped>\n",
       "  .ansiout {\n",
       "    display: block;\n",
       "    unicode-bidi: embed;\n",
       "    white-space: pre-wrap;\n",
       "    word-wrap: break-word;\n",
       "    word-break: break-all;\n",
       "    font-family: \"Source Code Pro\", \"Menlo\", monospace;;\n",
       "    font-size: 13px;\n",
       "    color: #555;\n",
       "    margin-left: 4px;\n",
       "    line-height: 19px;\n",
       "  }\n",
       "</style>\n",
       "<div class=\"ansiout\">Time elapsed: 161.3334 seconds.\n",
       "Time elapsed: 102.2279 seconds.\n",
       "</div>"
      ]
     },
     "metadata": {},
     "output_type": "display_data"
    }
   ],
   "source": [
    "from pyspark.ml.classification import LogisticRegression\n",
    "from pyspark.ml.classification import NaiveBayes\n",
    "from pyspark.ml.classification import LinearSVC\n",
    "\n",
    "# variables\n",
    "featuresCol = \"StandardScaler\"\n",
    "labelCol = \"StringIndexer\"\n",
    "predictionCol = \"prediction\"\n",
    "\n",
    "lr = LogisticRegression(maxIter=100, regParam=0.01, featuresCol=featuresCol, labelCol=labelCol, predictionCol=predictionCol)\n",
    "# svm = LinearSVC(maxIter=5, regParam=0.01, featuresCol=featuresCol, labelCol=labelCol)\n",
    "nb = NaiveBayes(smoothing=1.0, modelType=\"multinomial\", featuresCol=featuresCol, labelCol=labelCol, predictionCol=predictionCol)\n",
    "\n",
    "models = [lr, nb]\n",
    "\n",
    "model_results = []\n",
    "for model in models:\n",
    "  time_start = time.time()\n",
    "  \n",
    "  _fit = model.fit(train_df)\n",
    "  _predictions_train = _fit.transform(train_df)\n",
    "  _predictions_test = _fit.transform(test_df)\n",
    "  model_results.append((_fit, _predictions_train, _predictions_test))\n",
    "  \n",
    "  print('Time elapsed: {:.4f} seconds.'.format(time.time() - time_start))"
   ]
  },
  {
   "cell_type": "code",
   "execution_count": 13,
   "metadata": {},
   "outputs": [
    {
     "data": {
      "text/html": [
       "<style scoped>\n",
       "  .ansiout {\n",
       "    display: block;\n",
       "    unicode-bidi: embed;\n",
       "    white-space: pre-wrap;\n",
       "    word-wrap: break-word;\n",
       "    word-break: break-all;\n",
       "    font-family: \"Source Code Pro\", \"Menlo\", monospace;;\n",
       "    font-size: 13px;\n",
       "    color: #555;\n",
       "    margin-left: 4px;\n",
       "    line-height: 19px;\n",
       "  }\n",
       "</style>\n",
       "<div class=\"ansiout\">train data : model: Logistic roc: 0.9603 acc: 0.8982\n",
       "Time elapsed: 269.1483 seconds.\n",
       "test data  : model: Logistic roc: 0.9539 acc: 0.8901\n",
       "Time elapsed: 103.4503 seconds.\n",
       "train data : model: NaiveBys roc: 0.4794 acc: 0.8070\n",
       "Time elapsed: 252.2488 seconds.\n",
       "test data  : model: NaiveBys roc: 0.4774 acc: 0.7992\n",
       "Time elapsed: 85.8507 seconds.\n",
       "</div>"
      ]
     },
     "metadata": {},
     "output_type": "display_data"
    }
   ],
   "source": [
    "from pyspark.ml.evaluation import BinaryClassificationEvaluator\n",
    "\n",
    "model_names = [\"Logistic\", \"NaiveBys\"]\n",
    "for i, (model, predictions_train, predictions_test) in enumerate(model_results):\n",
    "  time_start = time.time()\n",
    "  evaluator = BinaryClassificationEvaluator(rawPredictionCol=\"rawPrediction\", labelCol=labelCol)\n",
    "  roc_auc = evaluator.evaluate(predictions_train)\n",
    "  accuracy = predictions_train.filter(predictions_train.StringIndexer == predictions_train.prediction).count() / float(train_df.count())\n",
    "  print(\"train data : model: {} roc: {:.4f} acc: {:.4f}\".format(model_names[i], roc_auc, accuracy))\n",
    "  print('Time elapsed: {:.4f} seconds.'.format(time.time() - time_start))\n",
    "  time_start = time.time()\n",
    "  roc_auc = evaluator.evaluate(predictions_test)\n",
    "  accuracy = predictions_test.filter(predictions_test.StringIndexer == predictions_test.prediction).count() / float(test_df.count())\n",
    "  print(\"test data  : model: {} roc: {:.4f} acc: {:.4f}\".format(model_names[i], roc_auc, accuracy))\n",
    "  print('Time elapsed: {:.4f} seconds.'.format(time.time() - time_start))"
   ]
  },
  {
   "cell_type": "code",
   "execution_count": 14,
   "metadata": {},
   "outputs": [
    {
     "data": {
      "text/html": [
       "<style scoped>\n",
       "  .table-result-container {\n",
       "    max-height: 300px;\n",
       "    overflow: auto;\n",
       "  }\n",
       "  table, th, td {\n",
       "    border: 1px solid black;\n",
       "    border-collapse: collapse;\n",
       "  }\n",
       "  th, td {\n",
       "    padding: 5px;\n",
       "  }\n",
       "  th {\n",
       "    text-align: left;\n",
       "  }\n",
       "</style><div class='table-result-container'><table class='table-result'><thead style='background-color: white'><tr><th>False Positive Rate</th><th>True Positive Rate</th><th>Threshold</th></tr></thead><tbody><tr><td>0.0</td><td>0.0</td><td>0.9999352600302102</td></tr><tr><td>0.0</td><td>0.016129032258064516</td><td>0.9999352600302102</td></tr><tr><td>0.0</td><td>0.03225806451612903</td><td>0.9998652601457332</td></tr><tr><td>0.0</td><td>0.04838709677419355</td><td>0.9998206422532102</td></tr><tr><td>0.0</td><td>0.06451612903225806</td><td>0.9994485293892199</td></tr><tr><td>0.0</td><td>0.08064516129032258</td><td>0.9994364689089831</td></tr><tr><td>0.0</td><td>0.0967741935483871</td><td>0.9993897791570268</td></tr><tr><td>0.0</td><td>0.11290322580645161</td><td>0.9992944860033893</td></tr><tr><td>0.0</td><td>0.12903225806451613</td><td>0.9992822631375041</td></tr><tr><td>0.0</td><td>0.14516129032258066</td><td>0.9985250605257556</td></tr><tr><td>0.0</td><td>0.16129032258064516</td><td>0.9984913940964771</td></tr><tr><td>0.0</td><td>0.1774193548387097</td><td>0.9983905918708099</td></tr><tr><td>0.0</td><td>0.1935483870967742</td><td>0.9982132741975752</td></tr><tr><td>0.0</td><td>0.20967741935483872</td><td>0.9980911819423978</td></tr><tr><td>0.0</td><td>0.22580645161290322</td><td>0.9980722502713105</td></tr><tr><td>0.0</td><td>0.24193548387096775</td><td>0.995242149125782</td></tr><tr><td>0.0</td><td>0.25806451612903225</td><td>0.9951360255857892</td></tr><tr><td>0.0</td><td>0.27419354838709675</td><td>0.9944864413840833</td></tr><tr><td>0.0</td><td>0.2903225806451613</td><td>0.9917995391380885</td></tr><tr><td>0.0</td><td>0.3064516129032258</td><td>0.990829698572677</td></tr><tr><td>0.0</td><td>0.3225806451612903</td><td>0.9905509724336643</td></tr><tr><td>0.0</td><td>0.3387096774193548</td><td>0.9883843770258406</td></tr><tr><td>0.0</td><td>0.3548387096774194</td><td>0.9806573623312814</td></tr><tr><td>0.0</td><td>0.3709677419354839</td><td>0.9745710650327687</td></tr><tr><td>0.0</td><td>0.3870967741935484</td><td>0.972677110298872</td></tr><tr><td>0.0</td><td>0.4032258064516129</td><td>0.9683247840716782</td></tr><tr><td>0.0</td><td>0.41935483870967744</td><td>0.9660950838419244</td></tr><tr><td>0.0</td><td>0.43548387096774194</td><td>0.963359740925841</td></tr><tr><td>0.0</td><td>0.45161290322580644</td><td>0.962178899087319</td></tr><tr><td>0.0</td><td>0.46774193548387094</td><td>0.9581195892324929</td></tr><tr><td>0.0</td><td>0.4838709677419355</td><td>0.9474911376588724</td></tr><tr><td>0.0</td><td>0.5</td><td>0.933857963515939</td></tr><tr><td>0.0</td><td>0.5161290322580645</td><td>0.9094417945013898</td></tr><tr><td>0.0</td><td>0.532258064516129</td><td>0.9063010141242789</td></tr><tr><td>0.0</td><td>0.5483870967741935</td><td>0.9022022726454446</td></tr><tr><td>0.0</td><td>0.5645161290322581</td><td>0.8788270383311889</td></tr><tr><td>0.024390243902439025</td><td>0.5645161290322581</td><td>0.8628109591747265</td></tr><tr><td>0.024390243902439025</td><td>0.5806451612903226</td><td>0.8625576221932101</td></tr><tr><td>0.024390243902439025</td><td>0.5967741935483871</td><td>0.8439410597665342</td></tr><tr><td>0.024390243902439025</td><td>0.6129032258064516</td><td>0.8406325931005275</td></tr><tr><td>0.024390243902439025</td><td>0.6290322580645161</td><td>0.8374873574669387</td></tr><tr><td>0.024390243902439025</td><td>0.6451612903225806</td><td>0.836429689290282</td></tr><tr><td>0.024390243902439025</td><td>0.6612903225806451</td><td>0.8069804934622001</td></tr><tr><td>0.024390243902439025</td><td>0.6774193548387096</td><td>0.7996763699872382</td></tr><tr><td>0.04878048780487805</td><td>0.6774193548387096</td><td>0.7953027873201876</td></tr><tr><td>0.04878048780487805</td><td>0.6935483870967742</td><td>0.7671283176600218</td></tr><tr><td>0.04878048780487805</td><td>0.7096774193548387</td><td>0.7650213061392025</td></tr><tr><td>0.04878048780487805</td><td>0.7258064516129032</td><td>0.7462068637521584</td></tr><tr><td>0.04878048780487805</td><td>0.7419354838709677</td><td>0.7413348442164468</td></tr><tr><td>0.04878048780487805</td><td>0.7580645161290323</td><td>0.7042381621377813</td></tr><tr><td>0.04878048780487805</td><td>0.7741935483870968</td><td>0.6873821175148429</td></tr><tr><td>0.04878048780487805</td><td>0.7903225806451613</td><td>0.6786708374191107</td></tr><tr><td>0.04878048780487805</td><td>0.8064516129032258</td><td>0.6513611374245657</td></tr><tr><td>0.04878048780487805</td><td>0.8225806451612904</td><td>0.6501030393700528</td></tr><tr><td>0.04878048780487805</td><td>0.8387096774193549</td><td>0.6449142749587864</td></tr><tr><td>0.04878048780487805</td><td>0.8548387096774194</td><td>0.6257740000830032</td></tr><tr><td>0.04878048780487805</td><td>0.8709677419354839</td><td>0.6170568795875001</td></tr><tr><td>0.04878048780487805</td><td>0.8870967741935484</td><td>0.5764018945583934</td></tr><tr><td>0.04878048780487805</td><td>0.9032258064516129</td><td>0.527667424139405</td></tr><tr><td>0.04878048780487805</td><td>0.9193548387096774</td><td>0.4719705684293656</td></tr><tr><td>0.04878048780487805</td><td>0.9354838709677419</td><td>0.35654443604199676</td></tr><tr><td>0.07317073170731707</td><td>0.9354838709677419</td><td>0.34398079419654337</td></tr><tr><td>0.0975609756097561</td><td>0.9354838709677419</td><td>0.33860995618193007</td></tr><tr><td>0.12195121951219512</td><td>0.9354838709677419</td><td>0.3042915079377281</td></tr><tr><td>0.14634146341463414</td><td>0.9354838709677419</td><td>0.29983980765178087</td></tr><tr><td>0.14634146341463414</td><td>0.9516129032258065</td><td>0.29150730627561744</td></tr><tr><td>0.17073170731707318</td><td>0.9516129032258065</td><td>0.2836934096314422</td></tr><tr><td>0.17073170731707318</td><td>0.967741935483871</td><td>0.26022886160486186</td></tr><tr><td>0.1951219512195122</td><td>0.967741935483871</td><td>0.17363972954200274</td></tr><tr><td>0.21951219512195122</td><td>0.967741935483871</td><td>0.16349795145647775</td></tr><tr><td>0.24390243902439024</td><td>0.967741935483871</td><td>0.15900375326213212</td></tr><tr><td>0.2682926829268293</td><td>0.967741935483871</td><td>0.15643747125200558</td></tr><tr><td>0.2926829268292683</td><td>0.967741935483871</td><td>0.15536153041920386</td></tr><tr><td>0.3170731707317073</td><td>0.967741935483871</td><td>0.1500378024221178</td></tr><tr><td>0.34146341463414637</td><td>0.967741935483871</td><td>0.11476408064829129</td></tr><tr><td>0.36585365853658536</td><td>0.967741935483871</td><td>0.10862228819156643</td></tr><tr><td>0.36585365853658536</td><td>0.9838709677419355</td><td>0.1049427094259783</td></tr><tr><td>0.3902439024390244</td><td>0.9838709677419355</td><td>0.09972817649342447</td></tr><tr><td>0.4146341463414634</td><td>0.9838709677419355</td><td>0.07992928170324856</td></tr><tr><td>0.43902439024390244</td><td>0.9838709677419355</td><td>0.07294493205747529</td></tr><tr><td>0.4634146341463415</td><td>0.9838709677419355</td><td>0.06710406058914675</td></tr><tr><td>0.4878048780487805</td><td>0.9838709677419355</td><td>0.05531990984403418</td></tr><tr><td>0.5121951219512195</td><td>0.9838709677419355</td><td>0.04793371185739886</td></tr><tr><td>0.5121951219512195</td><td>1.0</td><td>0.04575451009397466</td></tr><tr><td>0.5365853658536586</td><td>1.0</td><td>0.040752358571757456</td></tr><tr><td>0.5609756097560976</td><td>1.0</td><td>0.03299058007368271</td></tr><tr><td>0.5853658536585366</td><td>1.0</td><td>0.031444175276146326</td></tr><tr><td>0.6097560975609756</td><td>1.0</td><td>0.029417986416608886</td></tr><tr><td>0.6341463414634146</td><td>1.0</td><td>0.025826233713476227</td></tr><tr><td>0.6585365853658537</td><td>1.0</td><td>0.013204587497452677</td></tr><tr><td>0.6829268292682927</td><td>1.0</td><td>0.011661732184542658</td></tr><tr><td>0.7073170731707317</td><td>1.0</td><td>0.011497518259816118</td></tr><tr><td>0.7317073170731707</td><td>1.0</td><td>0.00908110244836442</td></tr><tr><td>0.7560975609756098</td><td>1.0</td><td>0.008787829743634542</td></tr><tr><td>0.7804878048780488</td><td>1.0</td><td>0.007547238701744047</td></tr><tr><td>0.8048780487804879</td><td>1.0</td><td>0.007495860364819837</td></tr><tr><td>0.8292682926829268</td><td>1.0</td><td>0.005673414512995215</td></tr><tr><td>0.8536585365853658</td><td>1.0</td><td>0.005423629923293173</td></tr><tr><td>0.8780487804878049</td><td>1.0</td><td>0.0033187752133182037</td></tr><tr><td>0.9024390243902439</td><td>1.0</td><td>0.0030073053723603097</td></tr><tr><td>0.926829268292683</td><td>1.0</td><td>0.0010599586283681001</td></tr><tr><td>0.9512195121951219</td><td>1.0</td><td>0.0010197979487716951</td></tr><tr><td>0.975609756097561</td><td>1.0</td><td>3.878456704919327E-4</td></tr><tr><td>1.0</td><td>1.0</td><td>1.8035095580142552E-4</td></tr><tr><td>1.0</td><td>1.0</td><td>1.8035095580142552E-4</td></tr></tbody></table></div>"
      ]
     },
     "metadata": {},
     "output_type": "display_data"
    }
   ],
   "source": [
    "from pyspark.sql.functions import *\n",
    "\n",
    "# logistic regression as best model\n",
    "best_model = model_results[0][0]\n",
    "\n",
    "# roc curve\n",
    "display(best_model, test_df.select(col(\"StandardScaler\"), col(\"StandardScaler\").alias(\"features\"), col(\"StringIndexer\")), 'ROC')"
   ]
  },
  {
   "cell_type": "code",
   "execution_count": 15,
   "metadata": {},
   "outputs": [
    {
     "data": {
      "text/html": [
       "<style scoped>\n",
       "  .table-result-container {\n",
       "    max-height: 300px;\n",
       "    overflow: auto;\n",
       "  }\n",
       "  table, th, td {\n",
       "    border: 1px solid black;\n",
       "    border-collapse: collapse;\n",
       "  }\n",
       "  th, td {\n",
       "    padding: 5px;\n",
       "  }\n",
       "  th {\n",
       "    text-align: left;\n",
       "  }\n",
       "</style><div class='table-result-container'><table class='table-result'><thead style='background-color: white'><tr><th>fitted values</th><th>residuals</th></tr></thead><tbody><tr><td>-0.5903940936076832</td><td>0.6434555639580033</td></tr><tr><td>1.8366971962379186</td><td>0.13744237780678992</td></tr><tr><td>-8.620425483704837</td><td>-1.8035095580142552E-4</td></tr><tr><td>-2.54230816716807</td><td>-0.07294493205747529</td></tr><tr><td>-4.313898428881058</td><td>-0.013204587497452677</td></tr><tr><td>1.8388357815712222</td><td>-0.8628109591747265</td></tr><tr><td>-2.2002484940291334</td><td>-0.09972817649342447</td></tr><tr><td>7.255878184601409</td><td>7.055139966106738E-4</td></tr><tr><td>-0.8480607975268599</td><td>-0.29983980765178087</td></tr><tr><td>-5.166274566158245</td><td>-0.005673414512995215</td></tr><tr><td>2.6475198557555757</td><td>0.06614203648406103</td></tr><tr><td>-3.037630597139128</td><td>0.9542454899060253</td></tr><tr><td>-1.6324285084294745</td><td>-0.16349795145647775</td></tr><tr><td>-5.704835181206714</td><td>-0.0033187752133182037</td></tr><tr><td>1.4305082423659896</td><td>0.19301950653779987</td></tr><tr><td>2.2692841299442144</td><td>0.09369898587572112</td></tr><tr><td>2.892835621669475</td><td>0.052508862341127616</td></tr><tr><td>0.5967581616088162</td><td>0.3550857250412136</td></tr><tr><td>8.625948787387202</td><td>1.7935774678978778E-4</td></tr><tr><td>0.7476702081547681</td><td>0.3213291625808893</td></tr><tr><td>1.6396503690764508</td><td>0.1625126425330613</td></tr><tr><td>-3.158635553284071</td><td>-0.040752358571757456</td></tr><tr><td>-0.6694948740113522</td><td>-0.33860995618193007</td></tr><tr><td>0.8675620687977209</td><td>0.29576183786221866</td></tr><tr><td>-1.693153833867218</td><td>-0.15536153041920386</td></tr><tr><td>6.517662296174676</td><td>0.0014749394742443744</td></tr><tr><td>6.430278084578534</td><td>0.001609408129190082</td></tr><tr><td>0.625027622253919</td><td>0.3486388625754343</td></tr><tr><td>0.11078285938688437</td><td>0.47233257586059496</td></tr><tr><td>0.6194921594945032</td><td>0.34989696062994724</td></tr><tr><td>7.238689548304374</td><td>7.177368624958769E-4</td></tr><tr><td>1.6629424236400263</td><td>0.15936740689947249</td></tr><tr><td>6.249472289761054</td><td>0.0019277497286894762</td></tr><tr><td>-6.848464880679471</td><td>-0.0010599586283681001</td></tr><tr><td>-4.88588026666602</td><td>-0.007495860364819837</td></tr><tr><td>5.343190004230628</td><td>0.004757850874217984</td></tr><tr><td>-2.1434731513049274</td><td>0.8950572905740217</td></tr><tr><td>-2.8377134641665585</td><td>-0.05531990984403418</td></tr><tr><td>1.1921665032040003</td><td>0.23287168233997824</td></tr><tr><td>-4.878997654264086</td><td>-0.007547238701744047</td></tr><tr><td>-3.49628963540486</td><td>-0.029417986416608886</td></tr><tr><td>3.9259112598454524</td><td>0.019342637668718576</td></tr><tr><td>7.502370387574022</td><td>5.514706107800915E-4</td></tr><tr><td>4.6523494929531735</td><td>0.0094490275663357</td></tr><tr><td>5.321023552532428</td><td>0.0048639744142108254</td></tr><tr><td>-1.6656593897428662</td><td>-0.15900375326213212</td></tr><tr><td>-2.988815609295588</td><td>-0.04793371185739886</td></tr><tr><td>-2.632049103672153</td><td>-0.06710406058914675</td></tr><tr><td>3.420033008558157</td><td>0.03167521592832179</td></tr><tr><td>0.7879087274080013</td><td>0.3126178824851571</td></tr><tr><td>5.195016203095995</td><td>0.005513558615916736</td></tr><tr><td>4.443720667565017</td><td>0.011615622974159412</td></tr><tr><td>1.0784833480450282</td><td>0.2537931362478416</td></tr><tr><td>-3.6301989066162266</td><td>-0.025826233713476227</td></tr><tr><td>-1.6849776439234387</td><td>-0.15643747125200558</td></tr><tr><td>1.180408838989302</td><td>0.2349786938607975</td></tr><tr><td>-3.3779861683935404</td><td>-0.03299058007368271</td></tr><tr><td>-0.6456042406641396</td><td>-0.34398079419654337</td></tr><tr><td>-7.8545151330291</td><td>-3.878456704919327E-4</td></tr><tr><td>-2.1048916382102854</td><td>-0.10862228819156643</td></tr><tr><td>-4.725560827943301</td><td>-0.008787829743634542</td></tr><tr><td>2.221937404887873</td><td>0.09779772735455539</td></tr><tr><td>9.645067034039021</td><td>6.473996978983987E-5</td></tr><tr><td>-4.6924370917205325</td><td>-0.00908110244836442</td></tr><tr><td>-4.454059944633715</td><td>-0.011497518259816118</td></tr><tr><td>1.3571910307335853</td><td>-0.7953027873201876</td></tr><tr><td>-0.8880746768751503</td><td>0.7084926937243825</td></tr><tr><td>1.0529180143069548</td><td>0.2586651557835532</td></tr><tr><td>-1.734304596564631</td><td>-0.1500378024221178</td></tr><tr><td>1.6878488998554104</td><td>0.15605894023346578</td></tr><tr><td>0.30802000980149025</td><td>0.4235981054416066</td></tr><tr><td>6.495059552311255</td><td>0.0015086059035228638</td></tr><tr><td>3.2692792942062177</td><td>0.03664025907415902</td></tr><tr><td>-1.0447793851486713</td><td>0.7397711383951382</td></tr><tr><td>3.572327375991943</td><td>0.02732288970112795</td></tr><tr><td>6.325582170842365</td><td>0.0017867258024247823</td></tr><tr><td>1.384272899486954</td><td>0.20032363001276177</td></tr><tr><td>4.682572514746834</td><td>0.009170301427323002</td></tr><tr><td>0.47707473951480184</td><td>0.3829431204124999</td></tr><tr><td>7.401079221552198</td><td>6.102208429732414E-4</td></tr><tr><td>4.79533065401967</td><td>0.008200460861911507</td></tr><tr><td>3.3497022365623743</td><td>0.03390491615807556</td></tr><tr><td>-2.4433082697778707</td><td>-0.07992928170324856</td></tr><tr><td>-0.926214162665358</td><td>-0.2836934096314422</td></tr><tr><td>2.306838200009236</td><td>0.09055820549861016</td></tr><tr><td>1.6318995306250188</td><td>0.16357031070971795</td></tr><tr><td>3.13015440820779</td><td>0.04188041076750715</td></tr><tr><td>-5.211551568951728</td><td>-0.005423629923293173</td></tr><tr><td>-0.11223539514493608</td><td>0.5280294315706344</td></tr><tr><td>-0.8269445897175829</td><td>-0.3042915079377281</td></tr><tr><td>-5.80369898990258</td><td>-0.0030073053723603097</td></tr><tr><td>8.912029895087954</td><td>1.3473985426681878E-4</td></tr><tr><td>1.981369147162853</td><td>0.12117296166881109</td></tr><tr><td>-2.042975636434241</td><td>-0.11476408064829129</td></tr><tr><td>7.480724361241792</td><td>5.635310910169222E-4</td></tr><tr><td>-6.88713044245128</td><td>-0.0010197979487716951</td></tr><tr><td>3.6461097433003467</td><td>0.02542893496723131</td></tr><tr><td>0.5141293909191388</td><td>0.3742259999169968</td></tr><tr><td>-4.439712287742179</td><td>-0.011661732184542658</td></tr><tr><td>-1.5600482083604235</td><td>-0.17363972954200274</td></tr><tr><td>6.25936040430736</td><td>0.001908818057602235</td></tr><tr><td>3.236333227084433</td><td>0.03782110091268098</td></tr><tr><td>-3.42759236143442</td><td>-0.031444175276146326</td></tr></tbody></table></div>"
      ]
     },
     "metadata": {},
     "output_type": "display_data"
    }
   ],
   "source": [
    "display(best_model, test_df.select(col(\"StandardScaler\"), col(\"StandardScaler\").alias(\"features\"), col(\"StringIndexer\")))"
   ]
  },
  {
   "cell_type": "code",
   "execution_count": 16,
   "metadata": {},
   "outputs": [],
   "source": []
  }
 ],
 "metadata": {
  "kernelspec": {
   "display_name": "Python 3",
   "language": "python",
   "name": "python3"
  },
  "language_info": {
   "codemirror_mode": {
    "name": "ipython",
    "version": 3
   },
   "file_extension": ".py",
   "mimetype": "text/x-python",
   "name": "python",
   "nbconvert_exporter": "python",
   "pygments_lexer": "ipython3",
   "version": "3.7.3"
  },
  "name": "ar_import",
  "notebookId": 4447295042473641
 },
 "nbformat": 4,
 "nbformat_minor": 1
}
